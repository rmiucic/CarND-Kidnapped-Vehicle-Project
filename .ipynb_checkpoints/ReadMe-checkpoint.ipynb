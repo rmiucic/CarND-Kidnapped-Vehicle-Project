{
 "cells": [
  {
   "cell_type": "markdown",
   "metadata": {},
   "source": [
    "# CarND-Kidnapped-Vehicle-Project\n",
    "The text in this file explains the functions of the **CarND-Kidnapped-Vehicle-Project** project (written in CPP).\n"
   ]
  },
  {
   "cell_type": "markdown",
   "metadata": {},
   "source": [
    "Up on the reception of the message from the driving simulator (term2_sim.x86_64) h.onMessage (main.cpp) the following happens:\n",
    "1. **init** if the particle filter is not initialized ```(!pf.initialized())``` initialize the filter particles with help of the current GPS position ```pf.init(sense_x, sense_y, sense_theta, sigma_pos)``` (actually GPS like position, x, y are in Cartesian cordinates not latitude and longitude) <br>\n",
    "--> initialize values for x, y, and tetha (heading) based on a normal (Gaussian) distribution around x,y, and tetha<br>\n",
    "--> set number of particle\n",
    "2. if the particle filter is initialized do the rest of the items (3., 4., ...)\n",
    "3. **prediction** uses above **Bicycle Model** to update the the position of the particles for each time step.\n",
    "4. **updateWeights** updates the weights for each particle based on the observations (measurements to the land marks) and map. <br>\n",
    " For each particle: \n",
    " * convert observations to map coordinate system (world cordinates) using **Conversion Formula** below\n",
    " * select predicted landmarks that are in range of the sensor \n",
    " * Associate each observation to coresponding landmark ```dataAssociation```\n",
    " * using **Multi Variate Probability Density Function** (**Particle's Final Weight** below) ```multiv_prob``` calculate weight for all observations \n",
    " * Normalize the weights\n",
    "5. **resample** draw new particles (with replacement) with probability proportional to their weight"
   ]
  },
  {
   "cell_type": "markdown",
   "metadata": {},
   "source": [
    "# Bicycle Model\n",
    "\n",
    "if yaw rate is zero $\\dot{\\Theta}=0$ then <br>\n",
    "$x_{f}=x_{0}+v*dt*cos(\\Theta_{0})$ <br>\n",
    "$y_{f}=y_{0}+v*dt*sin(\\Theta_{0})$ <br>\n",
    "$\\Theta_{f}=\\Theta_{0}$ <br>\n",
    " <br>\n",
    "Otherwise if yaw rate is not zero $\\Theta_{f}\\neq=\\Theta_{0}$ then <br>\n",
    "$x_{f}=x_{0}+\\frac{v}{\\dot{\\Theta}}*\\left[sin(\\Theta_{0}+\\dot{\\Theta}*dt)-sin(\\Theta_{0})\\right]$ <br>\n",
    "$y_{f}=y_{0}+\\frac{v}{\\dot{\\Theta}}*\\left[cos(\\Theta_{0})-cos(\\Theta_{0}+\\dot{\\Theta}*dt)\\right]$ <br>\n",
    "$\\Theta_{f}=\\Theta_{0}+\\dot{\\Theta}*dt$ <br>\n",
    "<br>\n",
    "where <br>\n",
    "$\\Theta_{f}$ --  final heading angle <br>\n",
    "$x_{f}$ -- final x position <br>\n",
    "$y_{f}$ --  is final y position <br>\n",
    "$\\dot{\\Theta}$ -- yaw rate <br>\n",
    "$x_{0}$ -- initial x position <br>\n",
    "$y_{0}$ -- initial y position <br>\n",
    "$\\Theta_{0}$ -- initial heading angle <br>\n",
    "$dt$ -- delta time <br>\n"
   ]
  },
  {
   "cell_type": "markdown",
   "metadata": {},
   "source": [
    "# Conversion Formula (Homogenous Transformation)\n",
    "formula for converting car coordinate system $x_c,y_c$ to map coordinate system $x_m,y_m$ <br>\n",
    "This formula includes translation and rotation <br>\n",
    "\n",
    "\\begin{equation*}\n",
    "\\begin{bmatrix}\n",
    "x_m\\\\ \n",
    "y_m\\\\ \n",
    "1\n",
    "\\end{bmatrix}\n",
    "=\n",
    "\\begin{bmatrix}\n",
    "cos(\\theta) & -sin(\\theta) & x_p\\\\ \n",
    "sin(\\theta) & cos(\\theta) & y_p\\\\ \n",
    "0 & 0 & 1\n",
    "\\end{bmatrix}\n",
    "\\times \n",
    "\\begin{bmatrix}\n",
    "x_c\\\\ \n",
    "y_c\\\\ \n",
    "1\n",
    "\\end{bmatrix}\n",
    "\\end{equation*}\n",
    "\n",
    "\n",
    "\n",
    "\n",
    "\\begin{equation*}\n",
    "V_{map}\n",
    "=\n",
    "C\n",
    "\\times \n",
    "V_{pEstimate}\n",
    "\\end{equation*}\n",
    "\n",
    "$x_m=x_p + (cos\\theta \\times x_c) − (sin\\theta \\times y_c)$\n",
    "\n",
    "$y_m=y_p + (sin\\theta \\times x_c) + (cos\\theta \\times y_c)$\n",
    "<img src=\"localization-map-concept.png\" height=\"420\" width=\"420\">"
   ]
  },
  {
   "cell_type": "markdown",
   "metadata": {},
   "source": [
    "# Particle's Final Weight\n",
    "Multivariate-Gaussian probability density \n",
    "\\begin{equation*}\n",
    "P(x,y) = \\frac{1}{2\\pi\\sigma_x\\sigma_y}e^{-({\\frac{(x-\\mu_x)^2}{2\\sigma_x^2}+\\frac{(y-\\mu_y)^2}{2\\sigma_y^2}} )}\n",
    "\\end{equation*}\n",
    "where<br>\n",
    "$P(x,y)$ = Particle Weight <br>\n",
    "$x,y$ =  observations in map coordinates from the landmarks (transformed measurement's position) <br>\n",
    "$\\sigma_x\\sigma_y$ = standard deviation for x,y <br>\n",
    "$\\mu_x, \\mu_y$ are the coordinates of the nearest landmarks\n"
   ]
  },
  {
   "cell_type": "code",
   "execution_count": null,
   "metadata": {
    "collapsed": true
   },
   "outputs": [],
   "source": []
  }
 ],
 "metadata": {
  "kernelspec": {
   "display_name": "Python 3",
   "language": "python",
   "name": "python3"
  },
  "language_info": {
   "codemirror_mode": {
    "name": "ipython",
    "version": 3
   },
   "file_extension": ".py",
   "mimetype": "text/x-python",
   "name": "python",
   "nbconvert_exporter": "python",
   "pygments_lexer": "ipython3",
   "version": "3.6.2"
  }
 },
 "nbformat": 4,
 "nbformat_minor": 2
}
